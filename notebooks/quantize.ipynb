{
 "cells": [
  {
   "cell_type": "code",
   "execution_count": 1,
   "metadata": {
    "collapsed": true
   },
   "outputs": [],
   "source": [
    "from PIL import Image"
   ]
  },
  {
   "cell_type": "code",
   "execution_count": 10,
   "metadata": {
    "collapsed": true
   },
   "outputs": [],
   "source": [
    "def quantize(im, num_col, method, kmeans) -> list:\n",
    "    im = im.convert('RGB')\n",
    "    im_quantized = im.quantize(colors=num_col,\n",
    "                               method=method,\n",
    "                               kmeans=kmeans)\n",
    "    colors_quantity = im_quantized.getcolors()\n",
    "    palette_data = im_quantized.getpalette()\n",
    "\n",
    "    # Make RGB data from palette data\n",
    "    rgb_chunks = [palette_data[x:x+3] for x in range(0, num_col*3, 3)]\n",
    "\n",
    "    rgb_chunk_list = []\n",
    "    # Make a list of Tuples with the rgb count and a tuple of the RGB\n",
    "    for x in range(num_col):\n",
    "        rgb_chunk_list.append(\n",
    "            (colors_quantity[x][0],\n",
    "             (rgb_chunks[x][0], rgb_chunks[x][1], rgb_chunks[x][2])))\n",
    "\n",
    "    return sort_rgb_list(rgb_chunk_list)\n",
    "\n",
    "def all_outside_range(numlist, num) -> bool:\n",
    "    return abs(numlist[0] - numlist[1]) >= num and \\\n",
    "       abs(numlist[0] - numlist[2]) >= num and \\\n",
    "       abs(numlist[1] - numlist[2]) >= num\n",
    "\n",
    "\n",
    "def sort_rgb_list(rgb_list) -> list:\n",
    "    return list(sorted(rgb_list, key=lambda tup: tup[0], reverse=True))"
   ]
  },
  {
   "cell_type": "code",
   "execution_count": 11,
   "metadata": {},
   "outputs": [
    {
     "data": {
      "text/plain": [
       "[(38241, (254, 254, 254)),\n",
       " (904, (173, 179, 184)),\n",
       " (355, (8, 8, 8)),\n",
       " (332, (45, 127, 184)),\n",
       " (168, (96, 96, 96))]"
      ]
     },
     "execution_count": 11,
     "metadata": {},
     "output_type": "execute_result"
    }
   ],
   "source": [
    "im = Image.open('/data/test.png')\n",
    "im = im.resize((200,200))\n",
    "quantize(im, 5, 1, 5)"
   ]
  },
  {
   "cell_type": "code",
   "execution_count": null,
   "metadata": {
    "collapsed": true
   },
   "outputs": [],
   "source": []
  }
 ],
 "metadata": {
  "kernelspec": {
   "display_name": "Python 3",
   "language": "python",
   "name": "python3"
  },
  "language_info": {
   "codemirror_mode": {
    "name": "ipython",
    "version": 3
   },
   "file_extension": ".py",
   "mimetype": "text/x-python",
   "name": "python",
   "nbconvert_exporter": "python",
   "pygments_lexer": "ipython3",
   "version": "3.6.1"
  }
 },
 "nbformat": 4,
 "nbformat_minor": 2
}
