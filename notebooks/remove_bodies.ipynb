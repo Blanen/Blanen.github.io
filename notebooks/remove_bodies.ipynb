{
 "cells": [
  {
   "cell_type": "code",
   "execution_count": 1,
   "metadata": {
    "collapsed": true
   },
   "outputs": [],
   "source": [
    "import pandas as pd\n",
    "from collections import Counter\n",
    "from IPython.display import display\n",
    "\n",
    "df = pd.read_csv(r'/data/pepper/zuiderpark_combined_fixed.csv')"
   ]
  },
  {
   "cell_type": "code",
   "execution_count": 2,
   "metadata": {},
   "outputs": [
    {
     "data": {
      "text/plain": [
       "'DONE!'"
      ]
     },
     "metadata": {},
     "output_type": "display_data"
    }
   ],
   "source": [
    "per_pnum = [x for _, x in df.groupby(df.pNum)]\n",
    "\n",
    "df_list = []\n",
    "for pnum in per_pnum:\n",
    "    per_enum = [x for _, x in pnum.groupby(pnum.eNum)]\n",
    "    for enum in per_enum:\n",
    "        # display(enum.eNum)\n",
    "        trackings = [x for _, x in enum.groupby(enum.trackingId)]\n",
    "        df_list.append(max(trackings, key=len))\n",
    "\n",
    "filtered_df = pd.concat(df_list)\n",
    "filtered_df.to_csv(r'zuiderpark_combined_fixed_single_body.csv', index=False)\n",
    "display(\"DONE!\")"
   ]
  },
  {
   "cell_type": "code",
   "execution_count": null,
   "metadata": {
    "collapsed": true
   },
   "outputs": [],
   "source": []
  }
 ],
 "metadata": {
  "kernelspec": {
   "display_name": "Python 3",
   "language": "python",
   "name": "python3"
  },
  "language_info": {
   "codemirror_mode": {
    "name": "ipython",
    "version": 3
   },
   "file_extension": ".py",
   "mimetype": "text/x-python",
   "name": "python",
   "nbconvert_exporter": "python",
   "pygments_lexer": "ipython3",
   "version": "3.6.1"
  }
 },
 "nbformat": 4,
 "nbformat_minor": 2
}
