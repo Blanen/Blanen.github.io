{
 "cells": [
  {
   "cell_type": "markdown",
   "metadata": {},
   "source": [
    "# RDD basics"
   ]
  },
  {
   "cell_type": "markdown",
   "metadata": {},
   "source": [
    "This notebook will introduce essential Spark operations, to work with data. The data is read into a distributed dataset, then information can be extracted by defining a (chain) of **transformation** function(s) that process the data and finally an **action** function that extracts the information.    "
   ]
  },
  {
   "cell_type": "markdown",
   "metadata": {},
   "source": [
    "## Data containers"
   ]
  },
  {
   "cell_type": "markdown",
   "metadata": {},
   "source": [
    "Spark has two main types of data containers (formally these are API's).\n",
    "\n",
    "(1) an **RDD** or Resilient Distributed Dataset, which is an immutable distributed collection of elements of your data, partitioned across nodes in your cluster that can be operated in parallel with a low-level API that offers *transformations* and *actions*. Since they are immutable, every tranformation can be seen as an operation that generates a new RDD and action as an operation that generates a result. \n",
    "\n",
    "(2) a **Dataframe** is an immutable distributed collection of data. Unlike an RDD, data is organized into named columns, like a table in a relational database. Designed to make large data sets processing even easier, DataFrame allows developers to impose a structure onto a distributed collection of data, allowing higher-level abstraction\n",
    "\n",
    "The first part of the tutorial focusses on RDDs."
   ]
  },
  {
   "cell_type": "markdown",
   "metadata": {},
   "source": [
    "We can create an RDD from memory using the `parallelize(collection)` on the SparkContext (usually abbreviated as `sc`)."
   ]
  },
  {
   "cell_type": "code",
   "execution_count": null,
   "metadata": {
    "collapsed": true,
    "scrolled": true
   },
   "outputs": [],
   "source": [
    "names = sc.parallelize([\"Peter\", \"Mike\", \"James\", \"John\", \"Luke\", \"Phil\", \"Mike\"])"
   ]
  },
  {
   "cell_type": "markdown",
   "metadata": {},
   "source": [
    "You cannot directly view the contents of an RDD, rather you need an action to that. So inspection of `names` returns just type description."
   ]
  },
  {
   "cell_type": "code",
   "execution_count": null,
   "metadata": {},
   "outputs": [],
   "source": [
    "names"
   ]
  },
  {
   "cell_type": "markdown",
   "metadata": {},
   "source": [
    "### Actions"
   ]
  },
  {
   "cell_type": "markdown",
   "metadata": {},
   "source": [
    "We can apply several **action**s to an RDD to get results from it. The `collect()` action simply returns all the elements of the RDD as a Python list."
   ]
  },
  {
   "cell_type": "code",
   "execution_count": null,
   "metadata": {
    "scrolled": true
   },
   "outputs": [],
   "source": [
    "names.collect()"
   ]
  },
  {
   "cell_type": "markdown",
   "metadata": {
    "scrolled": true
   },
   "source": [
    "For inspection, the `first()` action return the first element as a value, and the `take(n)` action returns the first n elements as a List."
   ]
  },
  {
   "cell_type": "code",
   "execution_count": null,
   "metadata": {
    "scrolled": true
   },
   "outputs": [],
   "source": [
    "names.first()"
   ]
  },
  {
   "cell_type": "code",
   "execution_count": null,
   "metadata": {
    "scrolled": true
   },
   "outputs": [],
   "source": [
    "names.take(5)"
   ]
  },
  {
   "cell_type": "markdown",
   "metadata": {},
   "source": [
    "## RDD with structured elements"
   ]
  },
  {
   "cell_type": "markdown",
   "metadata": {},
   "source": [
    "We can also create an RDD in which every element is a collection. Commonly, tuples are used to assign multiple values to every element. Every position can have a diffent datatype, so we can create an element that stores the name and age of a person together. In this RDD, the structure of each element is a tuple consisting of a `(name, age)`."
   ]
  },
  {
   "cell_type": "code",
   "execution_count": null,
   "metadata": {},
   "outputs": [],
   "source": [
    "person = ('Peter', 30)\n",
    "person"
   ]
  },
  {
   "cell_type": "markdown",
   "metadata": {},
   "source": [
    " We can access elements in tuples through slicing and indexing. In this example, `[0]` is a person's name and `[1]` a person's age."
   ]
  },
  {
   "cell_type": "code",
   "execution_count": null,
   "metadata": {},
   "outputs": [],
   "source": [
    "person[1]"
   ]
  },
  {
   "cell_type": "markdown",
   "metadata": {},
   "source": [
    "So then we can create an RDD in which each element represents a person and stores the name and age in a `(name, age)` tuple."
   ]
  },
  {
   "cell_type": "code",
   "execution_count": null,
   "metadata": {},
   "outputs": [],
   "source": [
    "persons = sc.parallelize([('Peter', 30), ('Cindy', 12), ('Mike', 20), ('John', 25), ('Mary', 27)])\n",
    "persons.collect()"
   ]
  },
  {
   "cell_type": "markdown",
   "metadata": {},
   "source": [
    "## Functions to transform elements"
   ]
  },
  {
   "cell_type": "markdown",
   "metadata": {},
   "source": [
    "Spark allows us to easily and efficiently extract any result from an existing dataset. You should think of extracting some result as a sequence of **transformation**s. For instance, when we want to compute the average age we can first tranform `persons` into a dataset with just the ages, and take the `mean()` of those values. "
   ]
  },
  {
   "cell_type": "markdown",
   "metadata": {},
   "source": [
    "For each step in a transformation, we need to define a **function** that describes how the data is transformed. Commonly, these functions accept an element from the dataset en return a result according to their purpose. Let us start with a function that transforms a `(name, age)` element to just an `age`."
   ]
  },
  {
   "cell_type": "markdown",
   "metadata": {},
   "source": [
    "So a function that returns the age for a person whose data is structured as `(name, age)` would be:"
   ]
  },
  {
   "cell_type": "code",
   "execution_count": null,
   "metadata": {},
   "outputs": [],
   "source": [
    "def person_to_age(person):\n",
    "    return person[1]\n",
    "\n",
    "person_to_age(person)"
   ]
  },
  {
   "cell_type": "markdown",
   "metadata": {},
   "source": [
    "However, writing many functions like that is rather verbose. For simple single line operations, we typically use **lambda functions** instead of defining a function for it. These lambdas behave just like any other function. Before the `:` are the arguments and after the `:` the result that is returned."
   ]
  },
  {
   "cell_type": "code",
   "execution_count": null,
   "metadata": {},
   "outputs": [],
   "source": [
    "p2a = lambda x: x[1]\n",
    "p2a(person)"
   ]
  },
  {
   "cell_type": "markdown",
   "metadata": {},
   "source": [
    "### Map() to tranforms every element"
   ]
  },
  {
   "cell_type": "markdown",
   "metadata": {},
   "source": [
    "The most basic transformation of an RDD is a map. The `map(f)` transformation is given a function f and calls that function `f(element)` on every element, and stores the results returned by those function calls as a new RDD. In the first example we transform the elements in the RDD from a `(name, age)` to just their `age`. \n",
    "\n",
    "We can make the transformation by either passing the previously defined functions `person_to_age` or `p2a`."
   ]
  },
  {
   "cell_type": "code",
   "execution_count": null,
   "metadata": {},
   "outputs": [],
   "source": [
    "ages = persons.map(person_to_age)\n",
    "ages.collect()"
   ]
  },
  {
   "cell_type": "markdown",
   "metadata": {},
   "source": [
    "However, we will mostly type lambda expressions inline."
   ]
  },
  {
   "cell_type": "code",
   "execution_count": null,
   "metadata": {},
   "outputs": [],
   "source": [
    "ages = persons.map(lambda x: x[1])\n",
    "ages.collect()"
   ]
  },
  {
   "cell_type": "markdown",
   "metadata": {},
   "source": [
    "### Chaining transformations\n",
    "\n",
    "Think of each transformation (like `map()`) as a function that returns an RDD. On an RDD we can apply a new transformation or in the end an action. Thus we can write a result on a single like so:"
   ]
  },
  {
   "cell_type": "code",
   "execution_count": null,
   "metadata": {},
   "outputs": [],
   "source": [
    "persons.map(lambda x: x[1]).collect()"
   ]
  },
  {
   "cell_type": "markdown",
   "metadata": {},
   "source": [
    "However, beware that you code remains readable. Note:\n",
    "- Assigning the result of a single transformation to a variable does not make it slower\n",
    "- A meaningful variable name you assign the result to can help understand the code"
   ]
  },
  {
   "cell_type": "markdown",
   "metadata": {},
   "source": [
    "So to return the number of years these persons are older than youngest amongst them, we can simply retrieve the age of the youngest person, and use a new transformation in which we lower all ages with the youngest."
   ]
  },
  {
   "cell_type": "code",
   "execution_count": null,
   "metadata": {},
   "outputs": [],
   "source": [
    "youngest = persons.map( lambda x: x[1]).min()\n",
    "persons.map(lambda x: x[1] - youngest).collect()"
   ]
  },
  {
   "cell_type": "markdown",
   "metadata": {},
   "source": [
    "To preserve the name of each element, we can have our function output a tuple `(name, years older than youngest)`."
   ]
  },
  {
   "cell_type": "code",
   "execution_count": null,
   "metadata": {},
   "outputs": [],
   "source": [
    "persons.map(lambda x: (x[0], x[1] - youngest) ).collect()"
   ]
  },
  {
   "cell_type": "markdown",
   "metadata": {},
   "source": [
    "### Filter() to keep only selected elements"
   ]
  },
  {
   "cell_type": "markdown",
   "metadata": {},
   "source": [
    "By definition, a `map()` transformation will always map every element to exactly one result. So if the input RDD contains `n` elements the resulting RDD will also contain `n` elements. To leave out selected elements we can use the `filter()` transformation, wich evaluates a function for every element and only keeps the elements for which the function returns `True`. This function accepts a single element as a parameter and returns a boolean."
   ]
  },
  {
   "cell_type": "code",
   "execution_count": null,
   "metadata": {},
   "outputs": [],
   "source": [
    "adults = persons.filter(lambda x: x[1] >= 18)\n",
    "adults.collect()"
   ]
  },
  {
   "cell_type": "markdown",
   "metadata": {},
   "source": [
    "## Caching"
   ]
  },
  {
   "cell_type": "markdown",
   "metadata": {},
   "source": [
    "All transformations in Spark are **lazy**, in that they do not compute their results right away (a.k.a. Lazy Evaluation). Instead, they just remember the transformations applied to some base dataset (e.g. a file). The transformations are only computed when an action requires a result to be returned to the driver program. This design enables Spark to run more efficiently. For example, when only a small subset of the entire set is needed to produce the results (e.g. `take(5)`), there is no need to compute all results."
   ]
  },
  {
   "cell_type": "markdown",
   "metadata": {},
   "source": [
    "By default, intermediary results of transformations are computed and kept in memory as long as Spark senses they are still needed to complete the current action. This means that when an action finishes by default all intermediary results are removed, and have to be recomputed when needed again. However, you can manually instruct Spark to keep an RDD in memory, for much faster access the next time you reuse it. This is called caching or creating persistent RDDs. To cache an RDD to remain in memory you can use the `cache()` method. There is also support for persisting RDDs on disk."
   ]
  },
  {
   "cell_type": "code",
   "execution_count": null,
   "metadata": {},
   "outputs": [],
   "source": [
    "adults.getStorageLevel()"
   ]
  },
  {
   "cell_type": "code",
   "execution_count": null,
   "metadata": {},
   "outputs": [],
   "source": [
    "adults.cache()\n",
    "adults.getStorageLevel() # lists: disk, memory, offheap, deserialized, #replications"
   ]
  }
 ],
 "metadata": {
  "kernelspec": {
   "display_name": "pyspark",
   "language": "python",
   "name": "pyspark"
  },
  "language_info": {
   "codemirror_mode": {
    "name": "ipython",
    "version": 3
   },
   "file_extension": ".py",
   "mimetype": "text/x-python",
   "name": "python",
   "nbconvert_exporter": "python",
   "pygments_lexer": "ipython3",
   "version": "3.6.1"
  }
 },
 "nbformat": 4,
 "nbformat_minor": 1
}
